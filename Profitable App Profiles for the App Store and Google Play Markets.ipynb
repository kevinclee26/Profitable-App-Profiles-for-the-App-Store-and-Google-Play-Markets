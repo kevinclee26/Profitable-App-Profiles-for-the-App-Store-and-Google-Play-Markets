{
 "cells": [
  {
   "cell_type": "markdown",
   "metadata": {},
   "source": [
    "# Apps Portfolio\n",
    "\n",
    "the goal is to gather data and perform analysis on performance"
   ]
  },
  {
   "cell_type": "code",
   "execution_count": 60,
   "metadata": {
    "collapsed": true
   },
   "outputs": [],
   "source": [
    "from csv import reader\n",
    "\n",
    "opened_file = open('AppleStore.csv')\n",
    "read_file = reader(opened_file)\n",
    "apple_apps_data = list(read_file)\n",
    "\n",
    "opened_file = open('googleplaystore.csv')\n",
    "read_file = reader(opened_file)\n",
    "google_apps_data = list(read_file)\n",
    "del(google_apps_data[10473])"
   ]
  },
  {
   "cell_type": "code",
   "execution_count": 61,
   "metadata": {
    "collapsed": true
   },
   "outputs": [],
   "source": [
    "def explore_data(dataset, start, end, rows_and_columns=False):\n",
    "    dataset_slice = dataset[start:end]    \n",
    "    for row in dataset_slice:\n",
    "        print(row)\n",
    "        print('\\n') # adds a new (empty) line after each row\n",
    "\n",
    "    if rows_and_columns:\n",
    "        print('Number of rows:', len(dataset))\n",
    "        print('Number of columns:', len(dataset[0]))"
   ]
  },
  {
   "cell_type": "code",
   "execution_count": 62,
   "metadata": {},
   "outputs": [
    {
     "name": "stdout",
     "output_type": "stream",
     "text": [
      "['id', 'track_name', 'size_bytes', 'currency', 'price', 'rating_count_tot', 'rating_count_ver', 'user_rating', 'user_rating_ver', 'ver', 'cont_rating', 'prime_genre', 'sup_devices.num', 'ipadSc_urls.num', 'lang.num', 'vpp_lic']\n",
      "\n",
      "\n",
      "['284882215', 'Facebook', '389879808', 'USD', '0.0', '2974676', '212', '3.5', '3.5', '95.0', '4+', 'Social Networking', '37', '1', '29', '1']\n",
      "\n",
      "\n",
      "Number of rows: 7198\n",
      "Number of columns: 16\n",
      "\n",
      "\n",
      "['App', 'Category', 'Rating', 'Reviews', 'Size', 'Installs', 'Type', 'Price', 'Content Rating', 'Genres', 'Last Updated', 'Current Ver', 'Android Ver']\n",
      "\n",
      "\n",
      "['Photo Editor & Candy Camera & Grid & ScrapBook', 'ART_AND_DESIGN', '4.1', '159', '19M', '10,000+', 'Free', '0', 'Everyone', 'Art & Design', 'January 7, 2018', '1.0.0', '4.0.3 and up']\n",
      "\n",
      "\n",
      "Number of rows: 10841\n",
      "Number of columns: 13\n"
     ]
    }
   ],
   "source": [
    "explore_data(apple_apps_data, 0, 2, True)\n",
    "print('')\n",
    "explore_data(google_apps_data, 0, 2, True)"
   ]
  },
  {
   "cell_type": "markdown",
   "metadata": {},
   "source": [
    "There could potentially be duplications in the data\n",
    "Let's run a check to see how many dupliations there are"
   ]
  },
  {
   "cell_type": "code",
   "execution_count": 63,
   "metadata": {},
   "outputs": [
    {
     "name": "stdout",
     "output_type": "stream",
     "text": [
      "Dupilcate Google Apps:  1181\n",
      "Unique Google Apps:  9659\n",
      "Dupilcate Apple Apps:  2\n",
      "Unique Apple Apps:  7195\n"
     ]
    }
   ],
   "source": [
    "duplicate_apps = []\n",
    "unique_apps = []\n",
    "\n",
    "for apps in google_apps_data[1:]:\n",
    "    name = apps[0]\n",
    "    if name in unique_apps:\n",
    "        duplicate_apps.append(name)\n",
    "    else: \n",
    "        unique_apps.append(name)\n",
    "        \n",
    "print('Dupilcate Google Apps: ', len(duplicate_apps))\n",
    "print('Unique Google Apps: ' , len(unique_apps))\n",
    "\n",
    "duplicate_apps = []\n",
    "unique_apps = []\n",
    "\n",
    "for apps in apple_apps_data[1:]:\n",
    "    name = apps[1]\n",
    "    if name in unique_apps:\n",
    "        duplicate_apps.append(name)\n",
    "    else: \n",
    "        unique_apps.append(name)\n",
    "        \n",
    "print('Dupilcate Apple Apps: ', len(duplicate_apps))\n",
    "print('Unique Apple Apps: ' , len(unique_apps))"
   ]
  },
  {
   "cell_type": "markdown",
   "metadata": {},
   "source": [
    "We'll remove the duplicate apps and only keep the record with the highest number of reviews, assuming it's the most recent recording of the data"
   ]
  },
  {
   "cell_type": "code",
   "execution_count": null,
   "metadata": {},
   "outputs": [],
   "source": []
  },
  {
   "cell_type": "code",
   "execution_count": null,
   "metadata": {},
   "outputs": [],
   "source": []
  },
  {
   "cell_type": "code",
   "execution_count": 64,
   "metadata": {},
   "outputs": [
    {
     "name": "stdout",
     "output_type": "stream",
     "text": [
      "Cleaned Google Apps:  9659\n",
      "Cleaned Apple Apps:  7195\n"
     ]
    }
   ],
   "source": [
    "review_max = {}\n",
    "for apps in google_apps_data[1:]:\n",
    "    name = apps[0]\n",
    "    n_reviews = int(apps[3])\n",
    "    if (name in review_max and review_max[name] < n_reviews):\n",
    "        review_max[name] = n_reviews\n",
    "    elif name not in review_max: \n",
    "        review_max[name] = n_reviews\n",
    "\n",
    "android_clean = []\n",
    "already_added = []\n",
    "for apps in google_apps_data[1:]:\n",
    "    name = apps[0]\n",
    "    n_reviews = int(apps[3])\n",
    "    if (n_reviews == review_max[name] and name not in already_added): \n",
    "        android_clean.append(apps)\n",
    "        already_added.append(name)\n",
    "        \n",
    "print('Cleaned Google Apps: ', len(android_clean))\n",
    "\n",
    "review_max = {}\n",
    "for apps in apple_apps_data[1:]:\n",
    "    name = apps[1]\n",
    "    n_reviews = int(apps[5])\n",
    "    if (name in review_max and review_max[name] < n_reviews):\n",
    "        review_max[name] = n_reviews\n",
    "    elif name not in review_max: \n",
    "        review_max[name] = n_reviews\n",
    "\n",
    "apple_clean = []\n",
    "already_added = []\n",
    "for apps in apple_apps_data[1:]:\n",
    "    name = apps[1]\n",
    "    n_reviews = int(apps[5])\n",
    "    if (n_reviews == review_max[name] and name not in already_added): \n",
    "        apple_clean.append(apps)\n",
    "        already_added.append(name)\n",
    "        \n",
    "print('Cleaned Apple Apps: ', len(apple_clean))"
   ]
  },
  {
   "cell_type": "code",
   "execution_count": 65,
   "metadata": {},
   "outputs": [],
   "source": [
    "def is_english(title):\n",
    "    non_english_character = 0\n",
    "    for character in title:\n",
    "        if ord(character) > 127:\n",
    "            non_english_character += 1\n",
    "    if non_english_character > 3: \n",
    "        return False\n",
    "    else: \n",
    "        return True"
   ]
  },
  {
   "cell_type": "code",
   "execution_count": 66,
   "metadata": {},
   "outputs": [
    {
     "data": {
      "text/plain": [
       "\"\\nprint(is_english('Instagram'))\\nprint(is_english('爱奇艺PPS -《欢乐颂2》电视剧热播'))\\nprint(is_english('Docs To Go™ Free Office Suite'))\\nprint(is_english('Instachat 😜'))\\n\""
      ]
     },
     "execution_count": 66,
     "metadata": {},
     "output_type": "execute_result"
    }
   ],
   "source": [
    "'''\n",
    "print(is_english('Instagram'))\n",
    "print(is_english('爱奇艺PPS -《欢乐颂2》电视剧热播'))\n",
    "print(is_english('Docs To Go™ Free Office Suite'))\n",
    "print(is_english('Instachat 😜'))\n",
    "'''"
   ]
  },
  {
   "cell_type": "code",
   "execution_count": 67,
   "metadata": {},
   "outputs": [],
   "source": [
    "apple_clean_english = []\n",
    "for apps in apple_clean:\n",
    "    name = apps[1]\n",
    "    if (is_english(name)): \n",
    "        apple_clean_english.append(apps)\n",
    "\n",
    "android_clean_english = []\n",
    "for apps in android_clean:\n",
    "    name = apps[0]\n",
    "    if (is_english(name)): \n",
    "        android_clean_english.append(apps)"
   ]
  },
  {
   "cell_type": "markdown",
   "metadata": {},
   "source": [
    "store only free apps in a separate list"
   ]
  },
  {
   "cell_type": "markdown",
   "metadata": {},
   "source": [
    "checking to see if $ sign equals non-free"
   ]
  },
  {
   "cell_type": "code",
   "execution_count": 68,
   "metadata": {},
   "outputs": [
    {
     "name": "stdout",
     "output_type": "stream",
     "text": [
      "145\n",
      "145\n"
     ]
    }
   ],
   "source": [
    "android_apps_with_ds = 0\n",
    "android_apps_with_ds_ninety_nine = 0\n",
    "for apps in android_clean_english:\n",
    "    price = apps[7]\n",
    "    if price[0:3] == '$0.':\n",
    "        android_apps_with_ds += 1\n",
    "for apps in android_clean_english:\n",
    "    price = apps[7]\n",
    "    if price[0:5] == '$0.99':\n",
    "        android_apps_with_ds_ninety_nine += 1\n",
    "        \n",
    "print(android_apps_with_ds)\n",
    "print(android_apps_with_ds_ninety_nine)"
   ]
  },
  {
   "cell_type": "markdown",
   "metadata": {},
   "source": [
    "yes it does! - we could have used str.replace(old, new) here"
   ]
  },
  {
   "cell_type": "code",
   "execution_count": 70,
   "metadata": {},
   "outputs": [],
   "source": [
    "apple_clean_english_free = []\n",
    "for apps in apple_clean_english:\n",
    "    price = float(apps[4])\n",
    "    if price == 0.0:\n",
    "        apple_clean_english_free.append(apps)\n",
    "\n",
    "android_clean_english_free = []\n",
    "for apps in android_clean_english:\n",
    "    price = apps[7]\n",
    "    if price[0] != '$':\n",
    "        price = float(price)\n",
    "        if price == 0.0:\n",
    "            android_clean_english_free.append(apps)"
   ]
  },
  {
   "cell_type": "markdown",
   "metadata": {},
   "source": [
    "create some frequency tables to determine popular genres of apps"
   ]
  },
  {
   "cell_type": "code",
   "execution_count": 78,
   "metadata": {},
   "outputs": [
    {
     "name": "stdout",
     "output_type": "stream",
     "text": [
      "Medical: 6\n",
      "Weather: 28\n",
      "Reference: 18\n",
      "Travel: 40\n",
      "Photo & Video: 160\n",
      "Sports: 69\n",
      "Catalogs: 4\n",
      "Book: 14\n",
      "Shopping: 84\n",
      "Health & Fitness: 65\n",
      "Music: 66\n",
      "Finance: 36\n",
      "Education: 118\n",
      "Utilities: 81\n",
      "News: 43\n",
      "Navigation: 6\n",
      "Lifestyle: 51\n",
      "Entertainment: 254\n",
      "Games: 1872\n",
      "Food & Drink: 26\n",
      "Business: 17\n",
      "Productivity: 56\n",
      "Social Networking: 106\n",
      "\n",
      "\n",
      "WEATHER: 71\n",
      "HOUSE_AND_HOME: 73\n",
      "BEAUTY: 53\n",
      "FINANCE: 328\n",
      "SOCIAL: 236\n",
      "TOOLS: 750\n",
      "COMMUNICATION: 287\n",
      "SPORTS: 301\n",
      "VIDEO_PLAYERS: 159\n",
      "FAMILY: 1676\n",
      "SHOPPING: 199\n",
      "LIFESTYLE: 346\n",
      "BUSINESS: 407\n",
      "PARENTING: 58\n",
      "MEDICAL: 313\n",
      "PRODUCTIVITY: 345\n",
      "LIBRARIES_AND_DEMO: 83\n",
      "NEWS_AND_MAGAZINES: 248\n",
      "DATING: 165\n",
      "TRAVEL_AND_LOCAL: 207\n",
      "MAPS_AND_NAVIGATION: 124\n",
      "GAME: 862\n",
      "FOOD_AND_DRINK: 110\n",
      "AUTO_AND_VEHICLES: 82\n",
      "EVENTS: 63\n",
      "HEALTH_AND_FITNESS: 273\n",
      "BOOKS_AND_REFERENCE: 190\n",
      "ART_AND_DESIGN: 57\n",
      "COMICS: 55\n",
      "ENTERTAINMENT: 85\n",
      "PERSONALIZATION: 294\n",
      "PHOTOGRAPHY: 261\n",
      "EDUCATION: 103\n"
     ]
    }
   ],
   "source": [
    "apple_freq_genres = {}\n",
    "for apps in apple_clean_english_free: \n",
    "    genre = apps[11]\n",
    "    if genre in apple_freq_genres:\n",
    "        apple_freq_genres[genre] += 1\n",
    "    else: \n",
    "        apple_freq_genres[genre] = 1\n",
    "for genre in apple_freq_genres:\n",
    "    print(genre + ': ' + str(apple_freq_genres[genre]))\n",
    "\n",
    "print('')\n",
    "android_freq_genres = {}\n",
    "for apps in android_clean_english_free: \n",
    "    genre = apps[1]\n",
    "    if genre in android_freq_genres:\n",
    "        android_freq_genres[genre] += 1\n",
    "    else: \n",
    "        android_freq_genres[genre] = 1\n",
    "for genre in android_freq_genres:\n",
    "    print(genre + ': ' + str(android_freq_genres[genre]))"
   ]
  },
  {
   "cell_type": "code",
   "execution_count": 86,
   "metadata": {
    "collapsed": true
   },
   "outputs": [],
   "source": [
    "def freq_table(dataset, index):\n",
    "    freq_dictionary = {}\n",
    "    for each_row in dataset:\n",
    "        if each_row[index] in freq_dictionary: \n",
    "            freq_dictionary[each_row[index]] += 1\n",
    "        else: \n",
    "            freq_dictionary[each_row[index]] = 1\n",
    "    for each_element in freq_dictionary: \n",
    "        freq_dictionary[each_element] = round(freq_dictionary[each_element] / len(dataset) * 100, 2)\n",
    "    return freq_dictionary"
   ]
  },
  {
   "cell_type": "code",
   "execution_count": 87,
   "metadata": {},
   "outputs": [
    {
     "name": "stdout",
     "output_type": "stream",
     "text": [
      "{'WEATHER': 0.8, 'HOUSE_AND_HOME': 0.82, 'BEAUTY': 0.6, 'FINANCE': 3.7, 'SOCIAL': 2.66, 'TOOLS': 8.46, 'COMMUNICATION': 3.24, 'SPORTS': 3.4, 'VIDEO_PLAYERS': 1.79, 'FAMILY': 18.91, 'SHOPPING': 2.25, 'LIFESTYLE': 3.9, 'BUSINESS': 4.59, 'PARENTING': 0.65, 'MEDICAL': 3.53, 'PRODUCTIVITY': 3.89, 'LIBRARIES_AND_DEMO': 0.94, 'NEWS_AND_MAGAZINES': 2.8, 'DATING': 1.86, 'TRAVEL_AND_LOCAL': 2.34, 'MAPS_AND_NAVIGATION': 1.4, 'GAME': 9.72, 'FOOD_AND_DRINK': 1.24, 'AUTO_AND_VEHICLES': 0.93, 'EVENTS': 0.71, 'HEALTH_AND_FITNESS': 3.08, 'BOOKS_AND_REFERENCE': 2.14, 'ART_AND_DESIGN': 0.64, 'COMICS': 0.62, 'ENTERTAINMENT': 0.96, 'PERSONALIZATION': 3.32, 'PHOTOGRAPHY': 2.94, 'EDUCATION': 1.16}\n"
     ]
    }
   ],
   "source": [
    "print(freq_table(android_clean_english_free, 1))"
   ]
  },
  {
   "cell_type": "code",
   "execution_count": 88,
   "metadata": {
    "collapsed": true
   },
   "outputs": [],
   "source": [
    "def display_table(dataset, index):\n",
    "    table = freq_table(dataset, index)\n",
    "    table_display = []\n",
    "    for key in table:\n",
    "        key_val_as_tuple = (table[key], key)\n",
    "        table_display.append(key_val_as_tuple)\n",
    "\n",
    "    table_sorted = sorted(table_display, reverse = True)\n",
    "    for entry in table_sorted:\n",
    "        print(entry[1], ':', entry[0])"
   ]
  },
  {
   "cell_type": "code",
   "execution_count": 95,
   "metadata": {},
   "outputs": [
    {
     "name": "stdout",
     "output_type": "stream",
     "text": [
      "Games : 58.14\n",
      "Entertainment : 7.89\n",
      "Photo & Video : 4.97\n",
      "Education : 3.66\n",
      "Social Networking : 3.29\n",
      "Shopping : 2.61\n",
      "Utilities : 2.52\n",
      "Sports : 2.14\n",
      "Music : 2.05\n",
      "Health & Fitness : 2.02\n",
      "Productivity : 1.74\n",
      "Lifestyle : 1.58\n",
      "News : 1.34\n",
      "Travel : 1.24\n",
      "Finance : 1.12\n",
      "Weather : 0.87\n",
      "Food & Drink : 0.81\n",
      "Reference : 0.56\n",
      "Business : 0.53\n",
      "Book : 0.43\n",
      "Navigation : 0.19\n",
      "Medical : 0.19\n",
      "Catalogs : 0.12\n",
      "\n",
      "FAMILY : 18.91\n",
      "GAME : 9.72\n",
      "TOOLS : 8.46\n",
      "BUSINESS : 4.59\n",
      "LIFESTYLE : 3.9\n",
      "PRODUCTIVITY : 3.89\n",
      "FINANCE : 3.7\n",
      "MEDICAL : 3.53\n",
      "SPORTS : 3.4\n",
      "PERSONALIZATION : 3.32\n",
      "COMMUNICATION : 3.24\n",
      "HEALTH_AND_FITNESS : 3.08\n",
      "PHOTOGRAPHY : 2.94\n",
      "NEWS_AND_MAGAZINES : 2.8\n",
      "SOCIAL : 2.66\n",
      "TRAVEL_AND_LOCAL : 2.34\n",
      "SHOPPING : 2.25\n",
      "BOOKS_AND_REFERENCE : 2.14\n",
      "DATING : 1.86\n",
      "VIDEO_PLAYERS : 1.79\n",
      "MAPS_AND_NAVIGATION : 1.4\n",
      "FOOD_AND_DRINK : 1.24\n",
      "EDUCATION : 1.16\n",
      "ENTERTAINMENT : 0.96\n",
      "LIBRARIES_AND_DEMO : 0.94\n",
      "AUTO_AND_VEHICLES : 0.93\n",
      "HOUSE_AND_HOME : 0.82\n",
      "WEATHER : 0.8\n",
      "EVENTS : 0.71\n",
      "PARENTING : 0.65\n",
      "ART_AND_DESIGN : 0.64\n",
      "COMICS : 0.62\n",
      "BEAUTY : 0.6\n",
      "\n",
      "Tools : 8.45\n",
      "Entertainment : 6.07\n",
      "Education : 5.35\n",
      "Business : 4.59\n",
      "Productivity : 3.89\n",
      "Lifestyle : 3.89\n",
      "Finance : 3.7\n",
      "Medical : 3.53\n",
      "Sports : 3.46\n",
      "Personalization : 3.32\n",
      "Communication : 3.24\n",
      "Action : 3.1\n",
      "Health & Fitness : 3.08\n",
      "Photography : 2.94\n",
      "News & Magazines : 2.8\n",
      "Social : 2.66\n",
      "Travel & Local : 2.32\n",
      "Shopping : 2.25\n",
      "Books & Reference : 2.14\n",
      "Simulation : 2.04\n",
      "Dating : 1.86\n",
      "Arcade : 1.85\n",
      "Video Players & Editors : 1.77\n",
      "Casual : 1.76\n",
      "Maps & Navigation : 1.4\n",
      "Food & Drink : 1.24\n",
      "Puzzle : 1.13\n",
      "Racing : 0.99\n",
      "Role Playing : 0.94\n",
      "Libraries & Demo : 0.94\n",
      "Auto & Vehicles : 0.93\n",
      "Strategy : 0.91\n",
      "House & Home : 0.82\n",
      "Weather : 0.8\n",
      "Events : 0.71\n",
      "Adventure : 0.68\n",
      "Comics : 0.61\n",
      "Beauty : 0.6\n",
      "Art & Design : 0.6\n",
      "Parenting : 0.5\n",
      "Card : 0.45\n",
      "Casino : 0.43\n",
      "Trivia : 0.42\n",
      "Educational;Education : 0.39\n",
      "Board : 0.38\n",
      "Educational : 0.37\n",
      "Education;Education : 0.34\n",
      "Word : 0.26\n",
      "Casual;Pretend Play : 0.24\n",
      "Music : 0.2\n",
      "Racing;Action & Adventure : 0.17\n",
      "Puzzle;Brain Games : 0.17\n",
      "Entertainment;Music & Video : 0.17\n",
      "Casual;Brain Games : 0.14\n",
      "Casual;Action & Adventure : 0.14\n",
      "Arcade;Action & Adventure : 0.12\n",
      "Action;Action & Adventure : 0.1\n",
      "Educational;Pretend Play : 0.09\n",
      "Simulation;Action & Adventure : 0.08\n",
      "Parenting;Education : 0.08\n",
      "Entertainment;Brain Games : 0.08\n",
      "Board;Brain Games : 0.08\n",
      "Parenting;Music & Video : 0.07\n",
      "Educational;Brain Games : 0.07\n",
      "Casual;Creativity : 0.07\n",
      "Art & Design;Creativity : 0.07\n",
      "Education;Pretend Play : 0.06\n",
      "Role Playing;Pretend Play : 0.05\n",
      "Education;Creativity : 0.05\n",
      "Role Playing;Action & Adventure : 0.03\n",
      "Puzzle;Action & Adventure : 0.03\n",
      "Entertainment;Creativity : 0.03\n",
      "Entertainment;Action & Adventure : 0.03\n",
      "Educational;Creativity : 0.03\n",
      "Educational;Action & Adventure : 0.03\n",
      "Education;Music & Video : 0.03\n",
      "Education;Brain Games : 0.03\n",
      "Education;Action & Adventure : 0.03\n",
      "Adventure;Action & Adventure : 0.03\n",
      "Video Players & Editors;Music & Video : 0.02\n",
      "Sports;Action & Adventure : 0.02\n",
      "Simulation;Pretend Play : 0.02\n",
      "Puzzle;Creativity : 0.02\n",
      "Music;Music & Video : 0.02\n",
      "Entertainment;Pretend Play : 0.02\n",
      "Casual;Education : 0.02\n",
      "Board;Action & Adventure : 0.02\n",
      "Video Players & Editors;Creativity : 0.01\n",
      "Trivia;Education : 0.01\n",
      "Travel & Local;Action & Adventure : 0.01\n",
      "Tools;Education : 0.01\n",
      "Strategy;Education : 0.01\n",
      "Strategy;Creativity : 0.01\n",
      "Strategy;Action & Adventure : 0.01\n",
      "Simulation;Education : 0.01\n",
      "Role Playing;Brain Games : 0.01\n",
      "Racing;Pretend Play : 0.01\n",
      "Puzzle;Education : 0.01\n",
      "Parenting;Brain Games : 0.01\n",
      "Music & Audio;Music & Video : 0.01\n",
      "Lifestyle;Pretend Play : 0.01\n",
      "Lifestyle;Education : 0.01\n",
      "Health & Fitness;Education : 0.01\n",
      "Health & Fitness;Action & Adventure : 0.01\n",
      "Entertainment;Education : 0.01\n",
      "Communication;Creativity : 0.01\n",
      "Comics;Creativity : 0.01\n",
      "Casual;Music & Video : 0.01\n",
      "Card;Action & Adventure : 0.01\n",
      "Books & Reference;Education : 0.01\n",
      "Art & Design;Pretend Play : 0.01\n",
      "Art & Design;Action & Adventure : 0.01\n",
      "Arcade;Pretend Play : 0.01\n",
      "Adventure;Education : 0.01\n"
     ]
    }
   ],
   "source": [
    "display_table(apple_clean_english_free, 11)\n",
    "print('')\n",
    "display_table(android_clean_english_free, 1)\n",
    "print('')\n",
    "display_table(android_clean_english_free, 9)"
   ]
  },
  {
   "cell_type": "code",
   "execution_count": 114,
   "metadata": {},
   "outputs": [
    {
     "name": "stdout",
     "output_type": "stream",
     "text": [
      "Genre: Medical has avg rating numbers of 612.0\n",
      "Genre: Weather has avg rating numbers of 52279.89\n",
      "Genre: Reference has avg rating numbers of 74942.11\n",
      "Genre: Travel has avg rating numbers of 28243.8\n",
      "Genre: Photo & Video has avg rating numbers of 28441.54\n",
      "Genre: Sports has avg rating numbers of 23008.9\n",
      "Genre: Catalogs has avg rating numbers of 4004.0\n",
      "Genre: Book has avg rating numbers of 39758.5\n",
      "Genre: Shopping has avg rating numbers of 26919.69\n",
      "Genre: Health & Fitness has avg rating numbers of 23298.02\n",
      "Genre: Music has avg rating numbers of 57326.53\n",
      "Genre: Finance has avg rating numbers of 31467.94\n",
      "Genre: Education has avg rating numbers of 7003.98\n",
      "Genre: Utilities has avg rating numbers of 18684.46\n",
      "Genre: News has avg rating numbers of 21248.02\n",
      "Genre: Navigation has avg rating numbers of 86090.33\n",
      "Genre: Lifestyle has avg rating numbers of 16485.76\n",
      "Genre: Entertainment has avg rating numbers of 14029.83\n",
      "Genre: Games has avg rating numbers of 22812.92\n",
      "Genre: Food & Drink has avg rating numbers of 33333.92\n",
      "Genre: Business has avg rating numbers of 7491.12\n",
      "Genre: Productivity has avg rating numbers of 21028.41\n",
      "Genre: Social Networking has avg rating numbers of 71548.35\n"
     ]
    }
   ],
   "source": [
    "apple_genre_freq_table = freq_table(apple_clean_english_free, 11)\n",
    "for genre in apple_genre_freq_table: \n",
    "    total = 0\n",
    "    len_genre = 0\n",
    "    for apps in apple_clean_english_free:\n",
    "        genre_app = apps[11]\n",
    "        if genre_app == genre:\n",
    "            n_ratings = int(apps[5])\n",
    "            total += n_ratings\n",
    "            len_genre += 1\n",
    "    print('Genre: ' + genre + ' has avg rating numbers of ' + str(round((total / len_genre), 2)))"
   ]
  },
  {
   "cell_type": "code",
   "execution_count": null,
   "metadata": {
    "collapsed": true
   },
   "outputs": [],
   "source": [
    "android_genre_freq_table = freq_table(android_clean_english_free, 1)\n",
    "for category in android_genre_freq_table: \n",
    "    total = 0\n",
    "    len_category = 0\n",
    "    for apps in android_clean_english_free:\n",
    "        category_app = apps[1]\n",
    "        if category_app == genre:\n",
    "            n_installs = int(apps[5].replace('+','').replace(',',''))\n",
    "            total += n_ratings\n",
    "            len_category += 1\n",
    "    print('Genre: ' + genre + ' has avg rating numbers of ' + str(round((total / len_genre), 2)))"
   ]
  }
 ],
 "metadata": {
  "kernelspec": {
   "display_name": "Python 3",
   "language": "python",
   "name": "python3"
  },
  "language_info": {
   "codemirror_mode": {
    "name": "ipython",
    "version": 3
   },
   "file_extension": ".py",
   "mimetype": "text/x-python",
   "name": "python",
   "nbconvert_exporter": "python",
   "pygments_lexer": "ipython3",
   "version": "3.7.1"
  }
 },
 "nbformat": 4,
 "nbformat_minor": 2
}
